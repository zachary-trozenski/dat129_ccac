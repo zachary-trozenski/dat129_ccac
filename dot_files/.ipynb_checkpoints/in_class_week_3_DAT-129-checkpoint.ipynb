{
 "cells": [
  {
   "cell_type": "code",
   "execution_count": 38,
   "metadata": {},
   "outputs": [],
   "source": [
    "import csv\n",
    "\n",
    "def open_jail_csv():\n",
    "    \"\"\"\n",
    "    Iterate over the downloaded ACJ data from June 2019\n",
    "    Tabulate data by race: To what degree does the inmate population by race reflect the composition of the county?\n",
    "    Pulled from WPRDC 2020-02-12\n",
    "    \"\"\"\n",
    "    #with open('ACJ_06_2019.csv') -- leaving out for now to demonstrate importance of efficient coding with 'with'\n",
    "    # open the file!\n",
    "    file = open('ACJ_06_2019.csv', newline='')\n",
    "    # use the DictReader method to read the csv with the first line to be a header\n",
    "    reader = csv.DictReader(file)\n",
    "    # initialize an empty dictionary to capture the counts\n",
    "    race_count = {'B':0, 'W':0}\n",
    "    # create a variable to store the desired date\n",
    "    focus_date = '2019-06-01'\n",
    "\n",
    "    # for every row in the file\n",
    "    for row in reader:\n",
    "        # if the row data matches the focus date\n",
    "        if row[\"Date\"] == focus_date:\n",
    "           # if the Race group B is in the iteration, add one to the counter\n",
    "            if row['Race'] == 'B':\n",
    "                race_count['B'] += 1\n",
    "            # if the race group W is is in the iteration, add one to the counter\n",
    "            elif row['Race'] == 'W':\n",
    "                race_count['W'] += 1    \n",
    "    # Close the file\n",
    "    file.close()\n",
    "    # Return the race count dictionary\n",
    "    return race_count\n",
    "    \n",
    "\n",
    "\n"
   ]
  },
  {
   "cell_type": "code",
   "execution_count": 39,
   "metadata": {},
   "outputs": [],
   "source": [
    "def compute_percents(dictionary_count):\n",
    "    total = 0\n",
    "    # add all the values for each race in the dictionary\n",
    "    for races in dictionary_count:\n",
    "        total = total + dictionary_count[races]\n",
    "    # compute percentages\n",
    "    for races in dictionary_count:\n",
    "        percentage = dictionary_count[races] / total\n",
    "        print(\"Percent of inmates \" + races + \": \" + str(percentage * 100))"
   ]
  },
  {
   "cell_type": "code",
   "execution_count": 40,
   "metadata": {},
   "outputs": [
    {
     "name": "stdout",
     "output_type": "stream",
     "text": [
      "Percent of inmates B: 62.3963133640553\n",
      "Percent of inmates W: 37.6036866359447\n"
     ]
    }
   ],
   "source": [
    "# Run the aforementioned function\n",
    "data = open_jail_csv()\n",
    "compute_percents(data)"
   ]
  },
  {
   "cell_type": "code",
   "execution_count": null,
   "metadata": {},
   "outputs": [],
   "source": []
  },
  {
   "cell_type": "code",
   "execution_count": null,
   "metadata": {},
   "outputs": [],
   "source": []
  }
 ],
 "metadata": {
  "kernelspec": {
   "display_name": "Python 3",
   "language": "python",
   "name": "python3"
  },
  "language_info": {
   "codemirror_mode": {
    "name": "ipython",
    "version": 3
   },
   "file_extension": ".py",
   "mimetype": "text/x-python",
   "name": "python",
   "nbconvert_exporter": "python",
   "pygments_lexer": "ipython3",
   "version": "3.7.1"
  }
 },
 "nbformat": 4,
 "nbformat_minor": 2
}
